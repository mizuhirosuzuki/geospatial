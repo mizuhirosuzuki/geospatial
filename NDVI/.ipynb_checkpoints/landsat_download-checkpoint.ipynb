{
 "cells": [
  {
   "cell_type": "markdown",
   "metadata": {},
   "source": [
    "# How to get NDVI at each GPS coordinate"
   ]
  },
  {
   "cell_type": "markdown",
   "metadata": {},
   "source": [
    "In this notebook, I explain how to get NDVI data at given GPS coordinates.\n",
    "I define a couple of functions below in which you get NDVI values by just giving GPS coordinates (longitude and latitude).\n",
    "\n",
    "I use the Google Earth Engine, which stores the Landsat 8.\n",
    "The description for NDVI data can be found [here](https://developers.google.com/earth-engine/datasets/catalog/LANDSAT_LC08_C01_T1_8DAY_NDVI).\n",
    "To download the NDVI data and to process it, I use [the Earth Engine Python API](https://developers.google.com/earth-engine/python_install).\n",
    "Since it was hard to show the map of NDVI values, if you are interested in the visualization, go to Google Earth Engine console and run the code  in [this page](https://developers.google.com/earth-engine/datasets/catalog/LANDSAT_LC08_C01_T1_8DAY_NDVI)."
   ]
  },
  {
   "cell_type": "markdown",
   "metadata": {},
   "source": [
    "## Import packages"
   ]
  },
  {
   "cell_type": "code",
   "execution_count": 1,
   "metadata": {},
   "outputs": [
    {
     "name": "stdout",
     "output_type": "stream",
     "text": [
      "3.6.9\n"
     ]
    }
   ],
   "source": [
    "import platform\n",
    "print(platform.python_version())"
   ]
  },
  {
   "cell_type": "code",
   "execution_count": 22,
   "metadata": {},
   "outputs": [],
   "source": [
    "import numpy as np\n",
    "import pandas as pd\n",
    "import matplotlib.pyplot as plt\n",
    "import ee\n",
    "import datetime"
   ]
  },
  {
   "cell_type": "markdown",
   "metadata": {},
   "source": [
    "## Authentication for Earth Engine using Google account"
   ]
  },
  {
   "cell_type": "markdown",
   "metadata": {},
   "source": [
    "To authenticate to the Earth Engine servers, you need to run the following command:"
   ]
  },
  {
   "cell_type": "code",
   "execution_count": 3,
   "metadata": {},
   "outputs": [
    {
     "data": {
      "text/html": [
       "<p>To authorize access needed by Earth Engine, open the following\n",
       "        URL in a web browser and follow the instructions:</p>\n",
       "        <p><a href=https://accounts.google.com/o/oauth2/auth?client_id=517222506229-vsmmajv00ul0bs7p89v5m89qs8eb9359.apps.googleusercontent.com&scope=https%3A%2F%2Fwww.googleapis.com%2Fauth%2Fearthengine+https%3A%2F%2Fwww.googleapis.com%2Fauth%2Fdevstorage.full_control&redirect_uri=urn%3Aietf%3Awg%3Aoauth%3A2.0%3Aoob&response_type=code&code_challenge=HKJ_FCLamZOzi6mM6H8GHnut-T_qUyxBvoK-GtfdiLg&code_challenge_method=S256>https://accounts.google.com/o/oauth2/auth?client_id=517222506229-vsmmajv00ul0bs7p89v5m89qs8eb9359.apps.googleusercontent.com&scope=https%3A%2F%2Fwww.googleapis.com%2Fauth%2Fearthengine+https%3A%2F%2Fwww.googleapis.com%2Fauth%2Fdevstorage.full_control&redirect_uri=urn%3Aietf%3Awg%3Aoauth%3A2.0%3Aoob&response_type=code&code_challenge=HKJ_FCLamZOzi6mM6H8GHnut-T_qUyxBvoK-GtfdiLg&code_challenge_method=S256</a></p>\n",
       "        <p>The authorization workflow will generate a code, which you\n",
       "        should paste in the box below</p>\n",
       "        "
      ],
      "text/plain": [
       "<IPython.core.display.HTML object>"
      ]
     },
     "metadata": {},
     "output_type": "display_data"
    },
    {
     "name": "stdout",
     "output_type": "stream",
     "text": [
      "Enter verification code: 4/zQGUDBrpWqCbNBA0s7a1Sg4cOlRUTo9OqZM7q8-Q_WdRLJ70lNqIR9w\n",
      "\n",
      "Successfully saved authorization token.\n"
     ]
    }
   ],
   "source": [
    "ee.Authenticate()"
   ]
  },
  {
   "cell_type": "code",
   "execution_count": 57,
   "metadata": {},
   "outputs": [],
   "source": [
    "# Initialize the API\n",
    "ee.Initialize()"
   ]
  },
  {
   "cell_type": "markdown",
   "metadata": {},
   "source": [
    "## Case 1: NDVI at common time frame for all observations"
   ]
  },
  {
   "cell_type": "markdown",
   "metadata": {},
   "source": [
    "Here, I define functions to get the NDVI for a common time frame for all given GPS coordinates.\n",
    "This can be useful when, for example, you are interested in the long-term vegetation index for certain places.\n",
    "For this purpose, I use the median value of the NDVI values for a certain period."
   ]
  },
  {
   "cell_type": "code",
   "execution_count": 33,
   "metadata": {},
   "outputs": [],
   "source": [
    "# Function to get NDVI value for a certain GPS coordinate (lon and lat)\n",
    "def get_ndvi(lon, lat, img):\n",
    "    point = ee.Geometry.Point([lon, lat])\n",
    "    img_reduced = img.reduceRegion(reducer = ee.Reducer.toList(),\n",
    "                      geometry = point,\n",
    "                      maxPixels = 1e1,\n",
    "                      scale = 10)\n",
    "    data = img_reduced.get('NDVI').getInfo()\n",
    "    try:\n",
    "        return data[0]\n",
    "    except:\n",
    "        return np.nan"
   ]
  },
  {
   "cell_type": "code",
   "execution_count": 24,
   "metadata": {},
   "outputs": [],
   "source": [
    "# Function to get NDVI values for all GPS coordinates in a given dataset\n",
    "def get_ndvi_all(df_id, df_lon, df_lat, start_date, end_date):\n",
    "    \n",
    "    dataset = ee.ImageCollection('LANDSAT/LC08/C01/T1_8DAY_NDVI')\n",
    "    \n",
    "    img = dataset.filterDate(start_date, end_date)\n",
    "    \n",
    "    img = img.median()\n",
    "    img = img.addBands(ee.Image.pixelLonLat())\n",
    "    \n",
    "    ndvi_array = np.zeros(len(df_lon))\n",
    "    for i, lon, lat in zip(range(len(acled_data)), df_lon, df_lat):\n",
    "        ndvi_array[i] = get_ndvi(lon, lat, img)\n",
    "    output_df = pd.DataFrame({'id': df_id, 'lon': df_lon, 'lat': df_lat, 'ndvi': ndvi_array})\n",
    "    return output_df"
   ]
  },
  {
   "cell_type": "markdown",
   "metadata": {},
   "source": [
    "### Example: ACLED"
   ]
  },
  {
   "cell_type": "markdown",
   "metadata": {},
   "source": [
    "As an example, I show how to use the functions above by using the places with conflicts.\n",
    "The conflict data is obtained from [ACLED](https://acleddata.com/curated-data-files/).\n",
    "For simplicity, in this example, I use the first 12 events in the dataset:"
   ]
  },
  {
   "cell_type": "code",
   "execution_count": 58,
   "metadata": {},
   "outputs": [
    {
     "data": {
      "text/html": [
       "<div>\n",
       "<style scoped>\n",
       "    .dataframe tbody tr th:only-of-type {\n",
       "        vertical-align: middle;\n",
       "    }\n",
       "\n",
       "    .dataframe tbody tr th {\n",
       "        vertical-align: top;\n",
       "    }\n",
       "\n",
       "    .dataframe thead th {\n",
       "        text-align: right;\n",
       "    }\n",
       "</style>\n",
       "<table border=\"1\" class=\"dataframe\">\n",
       "  <thead>\n",
       "    <tr style=\"text-align: right;\">\n",
       "      <th></th>\n",
       "      <th>ISO</th>\n",
       "      <th>EVENT_ID_CNTY</th>\n",
       "      <th>EVENT_ID_NO_CNTY</th>\n",
       "      <th>EVENT_DATE</th>\n",
       "      <th>YEAR</th>\n",
       "      <th>TIME_PRECISION</th>\n",
       "      <th>EVENT_TYPE</th>\n",
       "      <th>SUB_EVENT_TYPE</th>\n",
       "      <th>ACTOR1</th>\n",
       "      <th>ASSOC_ACTOR_1</th>\n",
       "      <th>...</th>\n",
       "      <th>ADMIN3</th>\n",
       "      <th>LOCATION</th>\n",
       "      <th>LATITUDE</th>\n",
       "      <th>LONGITUDE</th>\n",
       "      <th>GEO_PRECISION</th>\n",
       "      <th>SOURCE</th>\n",
       "      <th>SOURCE_SCALE</th>\n",
       "      <th>NOTES</th>\n",
       "      <th>FATALITIES</th>\n",
       "      <th>TIMESTAMP</th>\n",
       "    </tr>\n",
       "  </thead>\n",
       "  <tbody>\n",
       "    <tr>\n",
       "      <th>0</th>\n",
       "      <td>12</td>\n",
       "      <td>ALG1</td>\n",
       "      <td>1</td>\n",
       "      <td>01-January-1997</td>\n",
       "      <td>1997</td>\n",
       "      <td>1</td>\n",
       "      <td>Violence against civilians</td>\n",
       "      <td>Attack</td>\n",
       "      <td>GIA: Armed Islamic Group</td>\n",
       "      <td>NaN</td>\n",
       "      <td>...</td>\n",
       "      <td>NaN</td>\n",
       "      <td>Douaouda</td>\n",
       "      <td>36.672</td>\n",
       "      <td>2.789</td>\n",
       "      <td>1</td>\n",
       "      <td>Algeria Watch</td>\n",
       "      <td>Other</td>\n",
       "      <td>5 January: Beheading of 5 citizens in Douaouda...</td>\n",
       "      <td>5</td>\n",
       "      <td>1582579226</td>\n",
       "    </tr>\n",
       "    <tr>\n",
       "      <th>1</th>\n",
       "      <td>12</td>\n",
       "      <td>ALG2</td>\n",
       "      <td>2</td>\n",
       "      <td>02-January-1997</td>\n",
       "      <td>1997</td>\n",
       "      <td>1</td>\n",
       "      <td>Violence against civilians</td>\n",
       "      <td>Attack</td>\n",
       "      <td>GIA: Armed Islamic Group</td>\n",
       "      <td>NaN</td>\n",
       "      <td>...</td>\n",
       "      <td>NaN</td>\n",
       "      <td>Hassasna</td>\n",
       "      <td>36.133</td>\n",
       "      <td>0.883</td>\n",
       "      <td>1</td>\n",
       "      <td>Algeria Watch</td>\n",
       "      <td>Other</td>\n",
       "      <td>Two citizens were beheaded in Hassasna.</td>\n",
       "      <td>2</td>\n",
       "      <td>1582579226</td>\n",
       "    </tr>\n",
       "    <tr>\n",
       "      <th>2</th>\n",
       "      <td>12</td>\n",
       "      <td>ALG3</td>\n",
       "      <td>3</td>\n",
       "      <td>03-January-1997</td>\n",
       "      <td>1997</td>\n",
       "      <td>1</td>\n",
       "      <td>Violence against civilians</td>\n",
       "      <td>Attack</td>\n",
       "      <td>GIA: Armed Islamic Group</td>\n",
       "      <td>NaN</td>\n",
       "      <td>...</td>\n",
       "      <td>NaN</td>\n",
       "      <td>Hassi El Abed</td>\n",
       "      <td>34.966</td>\n",
       "      <td>-0.290</td>\n",
       "      <td>1</td>\n",
       "      <td>Algeria Watch</td>\n",
       "      <td>Other</td>\n",
       "      <td>Two citizens were killed in a raid on the vill...</td>\n",
       "      <td>2</td>\n",
       "      <td>1582579226</td>\n",
       "    </tr>\n",
       "    <tr>\n",
       "      <th>3</th>\n",
       "      <td>12</td>\n",
       "      <td>ALG4</td>\n",
       "      <td>4</td>\n",
       "      <td>04-January-1997</td>\n",
       "      <td>1997</td>\n",
       "      <td>1</td>\n",
       "      <td>Violence against civilians</td>\n",
       "      <td>Attack</td>\n",
       "      <td>GIA: Armed Islamic Group</td>\n",
       "      <td>NaN</td>\n",
       "      <td>...</td>\n",
       "      <td>NaN</td>\n",
       "      <td>Blida</td>\n",
       "      <td>36.469</td>\n",
       "      <td>2.829</td>\n",
       "      <td>1</td>\n",
       "      <td>Algeria Watch</td>\n",
       "      <td>Other</td>\n",
       "      <td>4 January: 16 citizens were murdered in the vi...</td>\n",
       "      <td>16</td>\n",
       "      <td>1582579226</td>\n",
       "    </tr>\n",
       "    <tr>\n",
       "      <th>4</th>\n",
       "      <td>12</td>\n",
       "      <td>ALG5</td>\n",
       "      <td>5</td>\n",
       "      <td>05-January-1997</td>\n",
       "      <td>1997</td>\n",
       "      <td>1</td>\n",
       "      <td>Violence against civilians</td>\n",
       "      <td>Attack</td>\n",
       "      <td>GIA: Armed Islamic Group</td>\n",
       "      <td>NaN</td>\n",
       "      <td>...</td>\n",
       "      <td>NaN</td>\n",
       "      <td>Douaouda</td>\n",
       "      <td>36.672</td>\n",
       "      <td>2.789</td>\n",
       "      <td>1</td>\n",
       "      <td>Algeria Watch</td>\n",
       "      <td>Other</td>\n",
       "      <td>5 January: Killing of 18 citizens in the Olivi...</td>\n",
       "      <td>18</td>\n",
       "      <td>1582579226</td>\n",
       "    </tr>\n",
       "  </tbody>\n",
       "</table>\n",
       "<p>5 rows × 29 columns</p>\n",
       "</div>"
      ],
      "text/plain": [
       "   ISO EVENT_ID_CNTY  EVENT_ID_NO_CNTY       EVENT_DATE  YEAR  TIME_PRECISION  \\\n",
       "0   12          ALG1                 1  01-January-1997  1997               1   \n",
       "1   12          ALG2                 2  02-January-1997  1997               1   \n",
       "2   12          ALG3                 3  03-January-1997  1997               1   \n",
       "3   12          ALG4                 4  04-January-1997  1997               1   \n",
       "4   12          ALG5                 5  05-January-1997  1997               1   \n",
       "\n",
       "                   EVENT_TYPE SUB_EVENT_TYPE                    ACTOR1  \\\n",
       "0  Violence against civilians         Attack  GIA: Armed Islamic Group   \n",
       "1  Violence against civilians         Attack  GIA: Armed Islamic Group   \n",
       "2  Violence against civilians         Attack  GIA: Armed Islamic Group   \n",
       "3  Violence against civilians         Attack  GIA: Armed Islamic Group   \n",
       "4  Violence against civilians         Attack  GIA: Armed Islamic Group   \n",
       "\n",
       "   ASSOC_ACTOR_1  ...  ADMIN3       LOCATION  LATITUDE  LONGITUDE  \\\n",
       "0            NaN  ...     NaN       Douaouda    36.672      2.789   \n",
       "1            NaN  ...     NaN       Hassasna    36.133      0.883   \n",
       "2            NaN  ...     NaN  Hassi El Abed    34.966     -0.290   \n",
       "3            NaN  ...     NaN          Blida    36.469      2.829   \n",
       "4            NaN  ...     NaN       Douaouda    36.672      2.789   \n",
       "\n",
       "   GEO_PRECISION         SOURCE SOURCE_SCALE  \\\n",
       "0              1  Algeria Watch        Other   \n",
       "1              1  Algeria Watch        Other   \n",
       "2              1  Algeria Watch        Other   \n",
       "3              1  Algeria Watch        Other   \n",
       "4              1  Algeria Watch        Other   \n",
       "\n",
       "                                               NOTES FATALITIES   TIMESTAMP  \n",
       "0  5 January: Beheading of 5 citizens in Douaouda...          5  1582579226  \n",
       "1            Two citizens were beheaded in Hassasna.          2  1582579226  \n",
       "2  Two citizens were killed in a raid on the vill...          2  1582579226  \n",
       "3  4 January: 16 citizens were murdered in the vi...         16  1582579226  \n",
       "4  5 January: Killing of 18 citizens in the Olivi...         18  1582579226  \n",
       "\n",
       "[5 rows x 29 columns]"
      ]
     },
     "execution_count": 58,
     "metadata": {},
     "output_type": "execute_result"
    }
   ],
   "source": [
    "acled_data = pd.read_excel('Africa_1997-2020_Apr25_short.xlsx')\n",
    "acled_data.head()"
   ]
  },
  {
   "cell_type": "markdown",
   "metadata": {},
   "source": [
    "To get the NDVI values for these places, I use the function `get_ndvi_all` defined above.\n",
    "Notice that there are 5 arguments required in this function:\n",
    "1. df_id: ID in the dataset, which makes it easy to merge the output data with the original dataset (for example, on Stata, by using `merge` command);\n",
    "2. df_lon: longitudes in each place;\n",
    "3. df_lat: latitudes in each place;\n",
    "4. start_date: the beginning of the period for which you want NDVI values;\n",
    "5. end_date: the end of the period for which you want NDVI values.\n",
    "\n",
    "Below, you can find an example of how to extract these information and use the `get_ndvi_all` function:"
   ]
  },
  {
   "cell_type": "code",
   "execution_count": 59,
   "metadata": {},
   "outputs": [
    {
     "data": {
      "text/html": [
       "<div>\n",
       "<style scoped>\n",
       "    .dataframe tbody tr th:only-of-type {\n",
       "        vertical-align: middle;\n",
       "    }\n",
       "\n",
       "    .dataframe tbody tr th {\n",
       "        vertical-align: top;\n",
       "    }\n",
       "\n",
       "    .dataframe thead th {\n",
       "        text-align: right;\n",
       "    }\n",
       "</style>\n",
       "<table border=\"1\" class=\"dataframe\">\n",
       "  <thead>\n",
       "    <tr style=\"text-align: right;\">\n",
       "      <th></th>\n",
       "      <th>id</th>\n",
       "      <th>lon</th>\n",
       "      <th>lat</th>\n",
       "      <th>ndvi</th>\n",
       "    </tr>\n",
       "  </thead>\n",
       "  <tbody>\n",
       "    <tr>\n",
       "      <th>0</th>\n",
       "      <td>ALG1</td>\n",
       "      <td>2.789</td>\n",
       "      <td>36.672</td>\n",
       "      <td>0.274737</td>\n",
       "    </tr>\n",
       "    <tr>\n",
       "      <th>1</th>\n",
       "      <td>ALG2</td>\n",
       "      <td>0.883</td>\n",
       "      <td>36.133</td>\n",
       "      <td>0.107337</td>\n",
       "    </tr>\n",
       "    <tr>\n",
       "      <th>2</th>\n",
       "      <td>ALG3</td>\n",
       "      <td>-0.290</td>\n",
       "      <td>34.966</td>\n",
       "      <td>0.164398</td>\n",
       "    </tr>\n",
       "    <tr>\n",
       "      <th>3</th>\n",
       "      <td>ALG4</td>\n",
       "      <td>2.829</td>\n",
       "      <td>36.469</td>\n",
       "      <td>0.181368</td>\n",
       "    </tr>\n",
       "    <tr>\n",
       "      <th>4</th>\n",
       "      <td>ALG5</td>\n",
       "      <td>2.789</td>\n",
       "      <td>36.672</td>\n",
       "      <td>0.274737</td>\n",
       "    </tr>\n",
       "    <tr>\n",
       "      <th>5</th>\n",
       "      <td>ALG6</td>\n",
       "      <td>2.922</td>\n",
       "      <td>36.803</td>\n",
       "      <td>0.115068</td>\n",
       "    </tr>\n",
       "    <tr>\n",
       "      <th>6</th>\n",
       "      <td>ALG7</td>\n",
       "      <td>2.418</td>\n",
       "      <td>36.514</td>\n",
       "      <td>0.154914</td>\n",
       "    </tr>\n",
       "    <tr>\n",
       "      <th>7</th>\n",
       "      <td>ALG8</td>\n",
       "      <td>6.874</td>\n",
       "      <td>35.971</td>\n",
       "      <td>0.098428</td>\n",
       "    </tr>\n",
       "    <tr>\n",
       "      <th>8</th>\n",
       "      <td>ALG11</td>\n",
       "      <td>5.767</td>\n",
       "      <td>36.800</td>\n",
       "      <td>0.216433</td>\n",
       "    </tr>\n",
       "    <tr>\n",
       "      <th>9</th>\n",
       "      <td>ALG9</td>\n",
       "      <td>3.042</td>\n",
       "      <td>36.752</td>\n",
       "      <td>0.369996</td>\n",
       "    </tr>\n",
       "    <tr>\n",
       "      <th>10</th>\n",
       "      <td>ALG10</td>\n",
       "      <td>2.789</td>\n",
       "      <td>36.672</td>\n",
       "      <td>0.274737</td>\n",
       "    </tr>\n",
       "    <tr>\n",
       "      <th>11</th>\n",
       "      <td>ALG12</td>\n",
       "      <td>3.118</td>\n",
       "      <td>36.722</td>\n",
       "      <td>0.097326</td>\n",
       "    </tr>\n",
       "  </tbody>\n",
       "</table>\n",
       "</div>"
      ],
      "text/plain": [
       "       id    lon     lat      ndvi\n",
       "0    ALG1  2.789  36.672  0.274737\n",
       "1    ALG2  0.883  36.133  0.107337\n",
       "2    ALG3 -0.290  34.966  0.164398\n",
       "3    ALG4  2.829  36.469  0.181368\n",
       "4    ALG5  2.789  36.672  0.274737\n",
       "5    ALG6  2.922  36.803  0.115068\n",
       "6    ALG7  2.418  36.514  0.154914\n",
       "7    ALG8  6.874  35.971  0.098428\n",
       "8   ALG11  5.767  36.800  0.216433\n",
       "9    ALG9  3.042  36.752  0.369996\n",
       "10  ALG10  2.789  36.672  0.274737\n",
       "11  ALG12  3.118  36.722  0.097326"
      ]
     },
     "execution_count": 59,
     "metadata": {},
     "output_type": "execute_result"
    }
   ],
   "source": [
    "df_id = acled_data.EVENT_ID_CNTY\n",
    "df_lon = acled_data.LONGITUDE\n",
    "df_lat = acled_data.LATITUDE\n",
    "\n",
    "start_date = '2010-01-01'\n",
    "end_date = '2017-12-31'\n",
    "\n",
    "output = get_ndvi_all(df_id, df_lon, df_lat, start_date, end_date)\n",
    "output"
   ]
  },
  {
   "cell_type": "markdown",
   "metadata": {},
   "source": [
    "You can save the output table as a csv file by `output.to_csv('filename.csv')`."
   ]
  },
  {
   "cell_type": "markdown",
   "metadata": {},
   "source": [
    "## Case 2: NDVI at different times for each event"
   ]
  },
  {
   "cell_type": "markdown",
   "metadata": {},
   "source": [
    "Here, I define functions to get the NDVI at different times at different GPS coordinates.\n",
    "You want to use the functions rather than the ones define above if you want a vegetation index at a certain time (eg. when a conflict occurred)."
   ]
  },
  {
   "cell_type": "code",
   "execution_count": 32,
   "metadata": {},
   "outputs": [],
   "source": [
    "def get_ndvi_timing(lon, lat, year, month, dataset):\n",
    "    \n",
    "    start_date = str(year) + '-' + str(month).zfill(2) + '-01'\n",
    "    end_date   = str(year + 1) + '-' + str(month).zfill(2) + '-01'\n",
    "    img = dataset.filterDate(start_date, end_date)\n",
    "    img = dataset.median()\n",
    "    img = img.addBands(ee.Image.pixelLonLat())\n",
    "\n",
    "    point = ee.Geometry.Point([lon, lat])\n",
    "    img_reduced = img.reduceRegion(reducer = ee.Reducer.toList(),\n",
    "                      geometry = point,\n",
    "                      maxPixels = 1e1,\n",
    "                      scale = 10)\n",
    "    data = img_reduced.get('NDVI').getInfo()\n",
    "    try:\n",
    "        return data[0]\n",
    "    except:\n",
    "        return np.nan"
   ]
  },
  {
   "cell_type": "code",
   "execution_count": 28,
   "metadata": {},
   "outputs": [],
   "source": [
    "def get_ndvi_timing_all(df_id, df_lon, df_lat, df_year, df_month):\n",
    "    \n",
    "    dataset = ee.ImageCollection('LANDSAT/LC08/C01/T1_8DAY_NDVI')\n",
    "    \n",
    "    ndvi_array = np.zeros(len(df_lon))\n",
    "    for i, lon, lat, year, month in zip(range(len(acled_data)), df_lon, df_lat, df_year, df_month):\n",
    "        ndvi_array[i] = get_ndvi_timing(lon, lat, year, month, dataset)\n",
    "    output_df = pd.DataFrame({'id': df_id, 'lon': df_lon, 'lat': df_lat, 'year': df_year, 'month':df_month, 'ndvi': ndvi_array})\n",
    "    return output_df"
   ]
  },
  {
   "cell_type": "markdown",
   "metadata": {},
   "source": [
    "To get the NDVI values for these places, I use the function `get_ndvi_timing_all` defined here.\n",
    "Again, notice that there are 5 arguments required in this function:\n",
    "1. df_id: ID in the dataset, which makes it easy to merge the output data with the original dataset (for example, on Stata, by using `merge` command);\n",
    "2. df_lon: longitudes in each place;\n",
    "3. df_lat: latitudes in each place;\n",
    "4. df_year: the year of the events recorded in the dataset;\n",
    "5. df_month: the month of the events recorded in the dataset.\n"
   ]
  },
  {
   "cell_type": "markdown",
   "metadata": {},
   "source": [
    "### Example: ACLED"
   ]
  },
  {
   "cell_type": "markdown",
   "metadata": {},
   "source": [
    "Here I show how to use the functions above by using the ACLED dataset."
   ]
  },
  {
   "cell_type": "code",
   "execution_count": 60,
   "metadata": {},
   "outputs": [],
   "source": [
    "acled_data = pd.read_excel('Africa_1997-2020_Apr25_short.xlsx')"
   ]
  },
  {
   "cell_type": "markdown",
   "metadata": {},
   "source": [
    "The first three arguments in the function `get_ndvi_timing_all` can be obtained in the same way as above:"
   ]
  },
  {
   "cell_type": "code",
   "execution_count": null,
   "metadata": {},
   "outputs": [],
   "source": [
    "df_id = acled_data.EVENT_ID_CNTY\n",
    "df_lon = acled_data.LONGITUDE\n",
    "df_lat = acled_data.LATITUDE"
   ]
  },
  {
   "cell_type": "markdown",
   "metadata": {},
   "source": [
    "You need some data processing to get the other two arguments, `df_year` and `df_month`, since these are not recorded in the ACLED dataset.\n",
    "In the dataset, the event date is recorded like `01-January-1997`.\n",
    "`pd.to_datetime` can convert such information into the `datetime` type, which allows us to get the year and month information:"
   ]
  },
  {
   "cell_type": "code",
   "execution_count": 61,
   "metadata": {},
   "outputs": [],
   "source": [
    "acled_datetime = pd.to_datetime(acled_data.EVENT_DATE)\n",
    "df_year = acled_datetime.dt.year\n",
    "df_month = acled_datetime.dt.month"
   ]
  },
  {
   "cell_type": "markdown",
   "metadata": {},
   "source": [
    "Now, giving the information at hand to the `get_ndvi_timing_all` function, we get the NDVI values at each GPS coordinate at a certain time:"
   ]
  },
  {
   "cell_type": "code",
   "execution_count": 62,
   "metadata": {},
   "outputs": [
    {
     "data": {
      "text/html": [
       "<div>\n",
       "<style scoped>\n",
       "    .dataframe tbody tr th:only-of-type {\n",
       "        vertical-align: middle;\n",
       "    }\n",
       "\n",
       "    .dataframe tbody tr th {\n",
       "        vertical-align: top;\n",
       "    }\n",
       "\n",
       "    .dataframe thead th {\n",
       "        text-align: right;\n",
       "    }\n",
       "</style>\n",
       "<table border=\"1\" class=\"dataframe\">\n",
       "  <thead>\n",
       "    <tr style=\"text-align: right;\">\n",
       "      <th></th>\n",
       "      <th>id</th>\n",
       "      <th>lon</th>\n",
       "      <th>lat</th>\n",
       "      <th>year</th>\n",
       "      <th>month</th>\n",
       "      <th>ndvi</th>\n",
       "    </tr>\n",
       "  </thead>\n",
       "  <tbody>\n",
       "    <tr>\n",
       "      <th>0</th>\n",
       "      <td>ALG1</td>\n",
       "      <td>2.789</td>\n",
       "      <td>36.672</td>\n",
       "      <td>1997</td>\n",
       "      <td>1</td>\n",
       "      <td>0.287340</td>\n",
       "    </tr>\n",
       "    <tr>\n",
       "      <th>1</th>\n",
       "      <td>ALG2</td>\n",
       "      <td>0.883</td>\n",
       "      <td>36.133</td>\n",
       "      <td>1997</td>\n",
       "      <td>1</td>\n",
       "      <td>0.095999</td>\n",
       "    </tr>\n",
       "    <tr>\n",
       "      <th>2</th>\n",
       "      <td>ALG3</td>\n",
       "      <td>-0.290</td>\n",
       "      <td>34.966</td>\n",
       "      <td>1997</td>\n",
       "      <td>1</td>\n",
       "      <td>0.163068</td>\n",
       "    </tr>\n",
       "    <tr>\n",
       "      <th>3</th>\n",
       "      <td>ALG4</td>\n",
       "      <td>2.829</td>\n",
       "      <td>36.469</td>\n",
       "      <td>1997</td>\n",
       "      <td>1</td>\n",
       "      <td>0.190112</td>\n",
       "    </tr>\n",
       "    <tr>\n",
       "      <th>4</th>\n",
       "      <td>ALG5</td>\n",
       "      <td>2.789</td>\n",
       "      <td>36.672</td>\n",
       "      <td>1997</td>\n",
       "      <td>1</td>\n",
       "      <td>0.287340</td>\n",
       "    </tr>\n",
       "    <tr>\n",
       "      <th>5</th>\n",
       "      <td>ALG6</td>\n",
       "      <td>2.922</td>\n",
       "      <td>36.803</td>\n",
       "      <td>1997</td>\n",
       "      <td>1</td>\n",
       "      <td>0.114687</td>\n",
       "    </tr>\n",
       "    <tr>\n",
       "      <th>6</th>\n",
       "      <td>ALG7</td>\n",
       "      <td>2.418</td>\n",
       "      <td>36.514</td>\n",
       "      <td>1997</td>\n",
       "      <td>1</td>\n",
       "      <td>0.157304</td>\n",
       "    </tr>\n",
       "    <tr>\n",
       "      <th>7</th>\n",
       "      <td>ALG8</td>\n",
       "      <td>6.874</td>\n",
       "      <td>35.971</td>\n",
       "      <td>1997</td>\n",
       "      <td>1</td>\n",
       "      <td>0.090236</td>\n",
       "    </tr>\n",
       "    <tr>\n",
       "      <th>8</th>\n",
       "      <td>ALG11</td>\n",
       "      <td>5.767</td>\n",
       "      <td>36.800</td>\n",
       "      <td>1997</td>\n",
       "      <td>1</td>\n",
       "      <td>0.236364</td>\n",
       "    </tr>\n",
       "    <tr>\n",
       "      <th>9</th>\n",
       "      <td>ALG9</td>\n",
       "      <td>3.042</td>\n",
       "      <td>36.752</td>\n",
       "      <td>1997</td>\n",
       "      <td>1</td>\n",
       "      <td>0.369996</td>\n",
       "    </tr>\n",
       "    <tr>\n",
       "      <th>10</th>\n",
       "      <td>ALG10</td>\n",
       "      <td>2.789</td>\n",
       "      <td>36.672</td>\n",
       "      <td>1997</td>\n",
       "      <td>1</td>\n",
       "      <td>0.287340</td>\n",
       "    </tr>\n",
       "    <tr>\n",
       "      <th>11</th>\n",
       "      <td>ALG12</td>\n",
       "      <td>3.118</td>\n",
       "      <td>36.722</td>\n",
       "      <td>1997</td>\n",
       "      <td>1</td>\n",
       "      <td>0.101067</td>\n",
       "    </tr>\n",
       "  </tbody>\n",
       "</table>\n",
       "</div>"
      ],
      "text/plain": [
       "       id    lon     lat  year  month      ndvi\n",
       "0    ALG1  2.789  36.672  1997      1  0.287340\n",
       "1    ALG2  0.883  36.133  1997      1  0.095999\n",
       "2    ALG3 -0.290  34.966  1997      1  0.163068\n",
       "3    ALG4  2.829  36.469  1997      1  0.190112\n",
       "4    ALG5  2.789  36.672  1997      1  0.287340\n",
       "5    ALG6  2.922  36.803  1997      1  0.114687\n",
       "6    ALG7  2.418  36.514  1997      1  0.157304\n",
       "7    ALG8  6.874  35.971  1997      1  0.090236\n",
       "8   ALG11  5.767  36.800  1997      1  0.236364\n",
       "9    ALG9  3.042  36.752  1997      1  0.369996\n",
       "10  ALG10  2.789  36.672  1997      1  0.287340\n",
       "11  ALG12  3.118  36.722  1997      1  0.101067"
      ]
     },
     "execution_count": 62,
     "metadata": {},
     "output_type": "execute_result"
    }
   ],
   "source": [
    "output = get_ndvi_timing_all(df_id, df_lon, df_lat, df_year, df_month)\n",
    "output"
   ]
  },
  {
   "cell_type": "markdown",
   "metadata": {},
   "source": [
    "You can save the output table as a csv file by `output.to_csv('filename.csv')`."
   ]
  }
 ],
 "metadata": {
  "kernelspec": {
   "display_name": "Python 3",
   "language": "python",
   "name": "python3"
  },
  "language_info": {
   "codemirror_mode": {
    "name": "ipython",
    "version": 3
   },
   "file_extension": ".py",
   "mimetype": "text/x-python",
   "name": "python",
   "nbconvert_exporter": "python",
   "pygments_lexer": "ipython3",
   "version": "3.6.9"
  },
  "toc": {
   "base_numbering": 1,
   "nav_menu": {},
   "number_sections": false,
   "sideBar": true,
   "skip_h1_title": false,
   "title_cell": "Table of Contents",
   "title_sidebar": "Contents",
   "toc_cell": false,
   "toc_position": {
    "height": "calc(100% - 180px)",
    "left": "10px",
    "top": "150px",
    "width": "165px"
   },
   "toc_section_display": true,
   "toc_window_display": true
  }
 },
 "nbformat": 4,
 "nbformat_minor": 2
}
